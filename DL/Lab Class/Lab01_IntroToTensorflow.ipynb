{
  "nbformat": 4,
  "nbformat_minor": 0,
  "metadata": {
    "colab": {
      "provenance": []
    },
    "kernelspec": {
      "name": "python3",
      "display_name": "Python 3"
    },
    "language_info": {
      "name": "python"
    },
    "accelerator": "GPU",
    "gpuClass": "standard"
  },
  "cells": [
    {
      "cell_type": "markdown",
      "source": [
        "# 08/03/2023 - Lab 01: Introduction to Deep Learning"
      ],
      "metadata": {
        "id": "8Orh_3T4Cd9V"
      }
    },
    {
      "cell_type": "markdown",
      "source": [
        "As Neural Networks require high parallel computation, you need to activate GPU Runtime. Click Runtime -> Change Runtime Time -> GPU. Note that you will be automatically disconnected if you don't run any code for some minutes (or - personal experience - if you run code for more than a certain time threshold)."
      ],
      "metadata": {
        "id": "BwjzydBPuNkx"
      }
    },
    {
      "cell_type": "code",
      "source": [
        "import numpy as np\n",
        "import tensorflow as tf\n",
        "import matplotlib.pyplot as plt\n",
        "\n",
        "!nvidia-smi  # Bash command to see GPU information"
      ],
      "metadata": {
        "id": "edyZj8sD_S2g",
        "colab": {
          "base_uri": "https://localhost:8080/"
        },
        "outputId": "dcf3dd78-37a0-4a78-e52d-0213ab28aca5"
      },
      "execution_count": 1,
      "outputs": [
        {
          "output_type": "stream",
          "name": "stdout",
          "text": [
            "Fri Mar 24 13:09:58 2023       \n",
            "+-----------------------------------------------------------------------------+\n",
            "| NVIDIA-SMI 525.85.12    Driver Version: 525.85.12    CUDA Version: 12.0     |\n",
            "|-------------------------------+----------------------+----------------------+\n",
            "| GPU  Name        Persistence-M| Bus-Id        Disp.A | Volatile Uncorr. ECC |\n",
            "| Fan  Temp  Perf  Pwr:Usage/Cap|         Memory-Usage | GPU-Util  Compute M. |\n",
            "|                               |                      |               MIG M. |\n",
            "|===============================+======================+======================|\n",
            "|   0  Tesla T4            Off  | 00000000:00:04.0 Off |                    0 |\n",
            "| N/A   36C    P8     9W /  70W |      0MiB / 15360MiB |      0%      Default |\n",
            "|                               |                      |                  N/A |\n",
            "+-------------------------------+----------------------+----------------------+\n",
            "                                                                               \n",
            "+-----------------------------------------------------------------------------+\n",
            "| Processes:                                                                  |\n",
            "|  GPU   GI   CI        PID   Type   Process name                  GPU Memory |\n",
            "|        ID   ID                                                   Usage      |\n",
            "|=============================================================================|\n",
            "|  No running processes found                                                 |\n",
            "+-----------------------------------------------------------------------------+\n"
          ]
        }
      ]
    },
    {
      "cell_type": "markdown",
      "source": [
        "In general, COLAB allows bash commands, they're written preceded by a '!'"
      ],
      "metadata": {
        "id": "uVE2kYNrDxJV"
      }
    },
    {
      "cell_type": "code",
      "source": [
        "print(tf.__version__)"
      ],
      "metadata": {
        "colab": {
          "base_uri": "https://localhost:8080/"
        },
        "id": "j5Vf4befvPYB",
        "outputId": "cb3c4e52-e11d-46f9-ef83-45e9b1cd544d"
      },
      "execution_count": 2,
      "outputs": [
        {
          "output_type": "stream",
          "name": "stdout",
          "text": [
            "2.11.0\n"
          ]
        }
      ]
    },
    {
      "cell_type": "markdown",
      "source": [
        "## Data Loading: Fashion MNIST\n",
        "Collection of Grayscale Images 28x28 obtained from Zalando's article images. Each image is associated with a label from 10 classes. On the github page you can find more details: https://github.com/zalandoresearch/fashion-mnist. Keras has already built-in data, included this, so we can use the built-in functionalities to load the dataset in memory\n"
      ],
      "metadata": {
        "id": "LBbtPqFWCkMN"
      }
    },
    {
      "cell_type": "code",
      "source": [
        "fashion_mnist = tf.keras.datasets.fashion_mnist\n",
        "(xtrain, ytrain), (xtest, ytest) = fashion_mnist.load_data()"
      ],
      "metadata": {
        "id": "VdwTvSLuDHwx",
        "colab": {
          "base_uri": "https://localhost:8080/"
        },
        "outputId": "3a5de88b-d8ff-4c7e-b6f8-cbfd22e69c1d"
      },
      "execution_count": 3,
      "outputs": [
        {
          "output_type": "stream",
          "name": "stdout",
          "text": [
            "Downloading data from https://storage.googleapis.com/tensorflow/tf-keras-datasets/train-labels-idx1-ubyte.gz\n",
            "29515/29515 [==============================] - 0s 0us/step\n",
            "Downloading data from https://storage.googleapis.com/tensorflow/tf-keras-datasets/train-images-idx3-ubyte.gz\n",
            "26421880/26421880 [==============================] - 0s 0us/step\n",
            "Downloading data from https://storage.googleapis.com/tensorflow/tf-keras-datasets/t10k-labels-idx1-ubyte.gz\n",
            "5148/5148 [==============================] - 0s 0us/step\n",
            "Downloading data from https://storage.googleapis.com/tensorflow/tf-keras-datasets/t10k-images-idx3-ubyte.gz\n",
            "4422102/4422102 [==============================] - 0s 0us/step\n"
          ]
        }
      ]
    },
    {
      "cell_type": "code",
      "source": [
        "print(xtrain.shape, xtest.shape)"
      ],
      "metadata": {
        "colab": {
          "base_uri": "https://localhost:8080/"
        },
        "id": "IvVYEXAUD51F",
        "outputId": "7a775913-9d5d-4dc5-ac63-18ad8ba2bb24"
      },
      "execution_count": 4,
      "outputs": [
        {
          "output_type": "stream",
          "name": "stdout",
          "text": [
            "(60000, 28, 28) (10000, 28, 28)\n"
          ]
        }
      ]
    },
    {
      "cell_type": "code",
      "source": [
        "print(xtrain.max(), xtrain.min())"
      ],
      "metadata": {
        "colab": {
          "base_uri": "https://localhost:8080/"
        },
        "id": "Rm1cRh85ETVt",
        "outputId": "7c122f27-3efb-480e-f9ce-b057f647f04b"
      },
      "execution_count": 5,
      "outputs": [
        {
          "output_type": "stream",
          "name": "stdout",
          "text": [
            "255 0\n"
          ]
        }
      ]
    },
    {
      "cell_type": "markdown",
      "source": [
        "It can be useful to normalize the data, as it is a small model. It improves the speed in training phase and can also improve performance. We will use MinMax feature scaling. "
      ],
      "metadata": {
        "id": "Us0UvQw5EreU"
      }
    },
    {
      "cell_type": "code",
      "source": [
        "normalize_data = lambda X: (X-X.min())/(X.max()-X.min())"
      ],
      "metadata": {
        "id": "Yp7Z23PxE9K7"
      },
      "execution_count": 6,
      "outputs": []
    },
    {
      "cell_type": "code",
      "source": [
        "xtrain = normalize_data(xtrain)\n",
        "xtest = normalize_data(xtest)\n",
        "print(xtrain.min(), xtrain.max())"
      ],
      "metadata": {
        "colab": {
          "base_uri": "https://localhost:8080/"
        },
        "id": "OA91K_MmFFTl",
        "outputId": "0e566184-e799-4870-ca60-69d4e7a94b92"
      },
      "execution_count": 7,
      "outputs": [
        {
          "output_type": "stream",
          "name": "stdout",
          "text": [
            "0.0 1.0\n"
          ]
        }
      ]
    },
    {
      "cell_type": "code",
      "source": [
        "print(ytrain[0])"
      ],
      "metadata": {
        "colab": {
          "base_uri": "https://localhost:8080/"
        },
        "id": "3ueipqOsIbIR",
        "outputId": "bff3e7f3-3c23-46e0-e271-6a06c4fdf9be"
      },
      "execution_count": 8,
      "outputs": [
        {
          "output_type": "stream",
          "name": "stdout",
          "text": [
            "9\n"
          ]
        }
      ]
    },
    {
      "cell_type": "code",
      "source": [
        "print(np.unique(ytrain))"
      ],
      "metadata": {
        "colab": {
          "base_uri": "https://localhost:8080/"
        },
        "id": "GY_iRbf4FqpR",
        "outputId": "e1371a66-ec4a-42bc-b255-f8b0306962fd"
      },
      "execution_count": 9,
      "outputs": [
        {
          "output_type": "stream",
          "name": "stdout",
          "text": [
            "[0 1 2 3 4 5 6 7 8 9]\n"
          ]
        }
      ]
    },
    {
      "cell_type": "markdown",
      "source": [
        "The output of ytrain is one of 10 different categories. We want to build a model to associate a category to an image. We want to encode these categories in a way in which the model can comprehend them better. We will use OneHotEncoding (mapping a continuous value into a vector that in this case will have length 10 and will be all 0 except for 1 in the position corresponding to the original category). "
      ],
      "metadata": {
        "id": "WXxoXnl7HRWg"
      }
    },
    {
      "cell_type": "code",
      "source": [
        "from keras.utils import to_categorical"
      ],
      "metadata": {
        "id": "8O82kPr1IVFG"
      },
      "execution_count": 10,
      "outputs": []
    },
    {
      "cell_type": "code",
      "source": [
        "ytrain = to_categorical(ytrain)\n",
        "ytest = to_categorical(ytest)\n",
        "\n",
        "print(ytrain[0])"
      ],
      "metadata": {
        "colab": {
          "base_uri": "https://localhost:8080/"
        },
        "id": "GOij6aDrH5Wx",
        "outputId": "ac638f2c-4b7c-45d9-d2ec-349db7808694"
      },
      "execution_count": 11,
      "outputs": [
        {
          "output_type": "stream",
          "name": "stdout",
          "text": [
            "[0. 0. 0. 0. 0. 0. 0. 0. 0. 1.]\n"
          ]
        }
      ]
    },
    {
      "cell_type": "markdown",
      "source": [
        "This concludes the section on data preprocessing"
      ],
      "metadata": {
        "id": "DW67noVpIrZ-"
      }
    },
    {
      "cell_type": "markdown",
      "source": [
        "## Definition of the Model"
      ],
      "metadata": {
        "id": "NGlW1XaHI7bN"
      }
    },
    {
      "cell_type": "markdown",
      "source": [
        "We work with Keras, API built on top of Tensorflow. We can use Sequential API and Functional API. \n",
        "Summary of layers:\n",
        "\n",
        "\n",
        "*   Input -> first layer of the network\n",
        "*   Flatten -> utility layer that reshapes data to a 1D array. \n",
        "* Reshape -> utility layer that reshapes the input in whatever way you want, provided that dimensions match\n",
        "* Dense -> basic layer. Stands for the fully connected layer.\n",
        "\n"
      ],
      "metadata": {
        "id": "JO0b1_x2JABF"
      }
    },
    {
      "cell_type": "code",
      "source": [
        "from tensorflow.keras.models import Model, Sequential\n",
        "from tensorflow.keras.layers import Dense, Flatten, Input"
      ],
      "metadata": {
        "id": "FdjNk7YbJLV1"
      },
      "execution_count": 12,
      "outputs": []
    },
    {
      "cell_type": "markdown",
      "source": [
        "In the Sequential API, we simply feed to Sequential() a list of all the layers, in the order in which the data should flow. In the following case, you feed in input the image as it is, and then obtain a (10, ) array. We will use the Softmax function to convert the output layer values in probability values. From this you can easily single out the most probable value. Issue with the Sequential API: it's a straightforward approach. You cannot \"skip\""
      ],
      "metadata": {
        "id": "ygaA-T5dJqo8"
      }
    },
    {
      "cell_type": "code",
      "source": [
        "model = Sequential([\n",
        "    Flatten(), Dense(64), Dense(10, activation='softmax')\n",
        "])"
      ],
      "metadata": {
        "id": "Zk8sHWItJjsB"
      },
      "execution_count": 13,
      "outputs": []
    },
    {
      "cell_type": "markdown",
      "source": [
        "In the Functional API, differently from the Sequential, we need to define the input layer, so state what the network should expect; also, we need not only to specify which layers you need, but also how the layers are concatenated. This will become useful in case we want to use Residual Networks."
      ],
      "metadata": {
        "id": "AxWl1h0eMAGB"
      }
    },
    {
      "cell_type": "code",
      "source": [
        "def build_model(input_shape, output_shape):\n",
        "  input = Input(input_shape)\n",
        "  flatten = Flatten()(input) # it kinda looks like a function\n",
        "\n",
        "  dense_1 = Dense(64, activation='relu')(flatten) # this is something good we can do. Useful working with images\n",
        "  dense_2 = Dense(10, activation='softmax')(dense_1)\n",
        "\n",
        "  model = Model(inputs=input, outputs=dense_2)\n",
        "  model.summary()\n",
        "  return model"
      ],
      "metadata": {
        "id": "CJmj26ePLjJr"
      },
      "execution_count": 14,
      "outputs": []
    },
    {
      "cell_type": "markdown",
      "source": [
        "The function summary() gives in output the summary of all the models: we can see the total number of parameters etc."
      ],
      "metadata": {
        "id": "AN6Bf0iCOUqe"
      }
    },
    {
      "cell_type": "code",
      "source": [
        "model = build_model((28,28), 10)"
      ],
      "metadata": {
        "colab": {
          "base_uri": "https://localhost:8080/"
        },
        "id": "CPB34KcLOOAV",
        "outputId": "70a6ce41-a476-4aa2-d907-f6d157e1e557"
      },
      "execution_count": 15,
      "outputs": [
        {
          "output_type": "stream",
          "name": "stdout",
          "text": [
            "Model: \"model\"\n",
            "_________________________________________________________________\n",
            " Layer (type)                Output Shape              Param #   \n",
            "=================================================================\n",
            " input_1 (InputLayer)        [(None, 28, 28)]          0         \n",
            "                                                                 \n",
            " flatten_1 (Flatten)         (None, 784)               0         \n",
            "                                                                 \n",
            " dense_2 (Dense)             (None, 64)                50240     \n",
            "                                                                 \n",
            " dense_3 (Dense)             (None, 10)                650       \n",
            "                                                                 \n",
            "=================================================================\n",
            "Total params: 50,890\n",
            "Trainable params: 50,890\n",
            "Non-trainable params: 0\n",
            "_________________________________________________________________\n"
          ]
        }
      ]
    },
    {
      "cell_type": "markdown",
      "source": [
        "Now we can actually train our model. We must specify the loss function and the optimizer. In the compile() operation, you must pass the configuration of the model. We will use Adam (very standard), Categorical Cross Entropy, which is often used on Multi-Label Classification, as Evaluation Metric we will use accuracy. Keras provides a string to call all these optimizers, which is bad because we can't modify the hyperparameters (e.g. Adam). To do this, you must call them with their full name as Tensorflow functions."
      ],
      "metadata": {
        "id": "yhTKKnziRIb6"
      }
    },
    {
      "cell_type": "code",
      "source": [
        "model.compile(optimizer='adam', loss='categorical_crossentropy', metrics='accuracy')"
      ],
      "metadata": {
        "id": "ePAo4JRXRUka"
      },
      "execution_count": 16,
      "outputs": []
    },
    {
      "cell_type": "code",
      "source": [
        "history = model.fit(xtrain, ytrain, epochs=10, validation_split=0.1) # we can also deal manually with the Validation split"
      ],
      "metadata": {
        "colab": {
          "base_uri": "https://localhost:8080/"
        },
        "id": "bFmj3OBVR8vL",
        "outputId": "f2441361-23d1-4963-fefd-4d8faeeea0fc"
      },
      "execution_count": 17,
      "outputs": [
        {
          "output_type": "stream",
          "name": "stdout",
          "text": [
            "Epoch 1/10\n",
            "1688/1688 [==============================] - 10s 3ms/step - loss: 0.5213 - accuracy: 0.8185 - val_loss: 0.4342 - val_accuracy: 0.8423\n",
            "Epoch 2/10\n",
            "1688/1688 [==============================] - 6s 4ms/step - loss: 0.3918 - accuracy: 0.8599 - val_loss: 0.3724 - val_accuracy: 0.8643\n",
            "Epoch 3/10\n",
            "1688/1688 [==============================] - 5s 3ms/step - loss: 0.3535 - accuracy: 0.8721 - val_loss: 0.3754 - val_accuracy: 0.8635\n",
            "Epoch 4/10\n",
            "1688/1688 [==============================] - 6s 3ms/step - loss: 0.3293 - accuracy: 0.8794 - val_loss: 0.3408 - val_accuracy: 0.8767\n",
            "Epoch 5/10\n",
            "1688/1688 [==============================] - 6s 3ms/step - loss: 0.3137 - accuracy: 0.8857 - val_loss: 0.3440 - val_accuracy: 0.8768\n",
            "Epoch 6/10\n",
            "1688/1688 [==============================] - 5s 3ms/step - loss: 0.2968 - accuracy: 0.8910 - val_loss: 0.3423 - val_accuracy: 0.8753\n",
            "Epoch 7/10\n",
            "1688/1688 [==============================] - 6s 4ms/step - loss: 0.2851 - accuracy: 0.8950 - val_loss: 0.3359 - val_accuracy: 0.8828\n",
            "Epoch 8/10\n",
            "1688/1688 [==============================] - 5s 3ms/step - loss: 0.2765 - accuracy: 0.8982 - val_loss: 0.3435 - val_accuracy: 0.8790\n",
            "Epoch 9/10\n",
            "1688/1688 [==============================] - 6s 4ms/step - loss: 0.2651 - accuracy: 0.9030 - val_loss: 0.3472 - val_accuracy: 0.8792\n",
            "Epoch 10/10\n",
            "1688/1688 [==============================] - 5s 3ms/step - loss: 0.2576 - accuracy: 0.9056 - val_loss: 0.3556 - val_accuracy: 0.8740\n"
          ]
        }
      ]
    },
    {
      "cell_type": "markdown",
      "source": [
        "We can save the results in a 'history' variable to then graph it. Then we want to validate the results"
      ],
      "metadata": {
        "id": "yuDOPq8ISdCt"
      }
    },
    {
      "cell_type": "code",
      "source": [
        "model.evaluate(xtest, ytest)"
      ],
      "metadata": {
        "colab": {
          "base_uri": "https://localhost:8080/"
        },
        "id": "1MSJBTocScuB",
        "outputId": "74ac9df6-cd0b-4d4f-f155-b19baed6bae5"
      },
      "execution_count": 18,
      "outputs": [
        {
          "output_type": "stream",
          "name": "stdout",
          "text": [
            "313/313 [==============================] - 1s 2ms/step - loss: 0.3836 - accuracy: 0.8629\n"
          ]
        },
        {
          "output_type": "execute_result",
          "data": {
            "text/plain": [
              "[0.38359108567237854, 0.8629000186920166]"
            ]
          },
          "metadata": {},
          "execution_count": 18
        }
      ]
    },
    {
      "cell_type": "code",
      "source": [
        "plt.plot(history.history['loss'])\n",
        "plt.plot(history.history['val_loss'])\n",
        "plt.show()"
      ],
      "metadata": {
        "colab": {
          "base_uri": "https://localhost:8080/",
          "height": 265
        },
        "id": "2S2ZXZ_nSxxC",
        "outputId": "2e625d51-562c-4159-b995-443d44b90c13"
      },
      "execution_count": 19,
      "outputs": [
        {
          "output_type": "display_data",
          "data": {
            "text/plain": [
              "<Figure size 432x288 with 1 Axes>"
            ],
            "image/png": "[encoded data removed]"
          },
          "metadata": {
            "needs_background": "light"
          }
        }
      ]
    },
    {
      "cell_type": "markdown",
      "source": [
        "Tensorboard is a tool to analyze interactively the model. Callback functions are tools to do operations while training (e.g. TensorBoard or EarlyStopping). In EarlyStopping, you can establish a target value to monitor (e.g. accuracy or loss) and after how many epochs stop the iterations. It allows to not care about the epoch value and reduce the risk of overfitting"
      ],
      "metadata": {
        "id": "LgJzcpbyTL9I"
      }
    },
    {
      "cell_type": "code",
      "source": [
        "%load_ext tensorboard"
      ],
      "metadata": {
        "id": "iUyuQzBMTfkU"
      },
      "execution_count": 20,
      "outputs": []
    },
    {
      "cell_type": "code",
      "source": [
        "import datetime\n",
        "tb_callback = tf.keras.callbacks.TensorBoard(log_dir=f'logs/fit/{str(datetime.datetime.now())}')\n",
        "model = build_model((28,28), 10)\n",
        "model.compile(optimizer='adam', loss='categorical_crossentropy', metrics='accuracy')\n",
        "history = model.fit(xtrain, ytrain, epochs=10, validation_split=0.1, callbacks=[tb_callback])"
      ],
      "metadata": {
        "colab": {
          "base_uri": "https://localhost:8080/"
        },
        "id": "rxDBVyOOTh3g",
        "outputId": "c672ef03-2d3e-4aa3-b3e9-c50963136ef8"
      },
      "execution_count": null,
      "outputs": [
        {
          "output_type": "stream",
          "name": "stdout",
          "text": [
            "Model: \"model_1\"\n",
            "_________________________________________________________________\n",
            " Layer (type)                Output Shape              Param #   \n",
            "=================================================================\n",
            " input_2 (InputLayer)        [(None, 28, 28)]          0         \n",
            "                                                                 \n",
            " flatten_2 (Flatten)         (None, 784)               0         \n",
            "                                                                 \n",
            " dense_4 (Dense)             (None, 64)                50240     \n",
            "                                                                 \n",
            " dense_5 (Dense)             (None, 10)                650       \n",
            "                                                                 \n",
            "=================================================================\n",
            "Total params: 50,890\n",
            "Trainable params: 50,890\n",
            "Non-trainable params: 0\n",
            "_________________________________________________________________\n",
            "Epoch 1/10\n",
            "1688/1688 [==============================] - 7s 3ms/step - loss: 0.5292 - accuracy: 0.8170 - val_loss: 0.4030 - val_accuracy: 0.8548\n",
            "Epoch 2/10\n",
            "1688/1688 [==============================] - 6s 3ms/step - loss: 0.3946 - accuracy: 0.8587 - val_loss: 0.3729 - val_accuracy: 0.8680\n",
            "Epoch 3/10\n",
            "1688/1688 [==============================] - 5s 3ms/step - loss: 0.3563 - accuracy: 0.8708 - val_loss: 0.3457 - val_accuracy: 0.8770\n",
            "Epoch 4/10\n",
            "1688/1688 [==============================] - 5s 3ms/step - loss: 0.3309 - accuracy: 0.8813 - val_loss: 0.3463 - val_accuracy: 0.8780\n",
            "Epoch 5/10\n",
            "1688/1688 [==============================] - 6s 3ms/step - loss: 0.3113 - accuracy: 0.8882 - val_loss: 0.3362 - val_accuracy: 0.8845\n",
            "Epoch 6/10\n",
            "1688/1688 [==============================] - 5s 3ms/step - loss: 0.2979 - accuracy: 0.8924 - val_loss: 0.3338 - val_accuracy: 0.8815\n",
            "Epoch 7/10\n",
            "1688/1688 [==============================] - 6s 4ms/step - loss: 0.2841 - accuracy: 0.8949 - val_loss: 0.3398 - val_accuracy: 0.8857\n",
            "Epoch 8/10\n",
            "1688/1688 [==============================] - 5s 3ms/step - loss: 0.2764 - accuracy: 0.8984 - val_loss: 0.3416 - val_accuracy: 0.8775\n",
            "Epoch 9/10\n",
            " 767/1688 [============>.................] - ETA: 2s - loss: 0.2675 - accuracy: 0.9013"
          ]
        }
      ]
    },
    {
      "cell_type": "code",
      "source": [
        "%tensorboard --logdir logs/fit"
      ],
      "metadata": {
        "id": "mfEh_4oaUbC2"
      },
      "execution_count": null,
      "outputs": []
    }
  ]
}